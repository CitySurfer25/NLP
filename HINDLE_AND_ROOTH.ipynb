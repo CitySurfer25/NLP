{
 "cells": [
  {
   "cell_type": "code",
   "execution_count": 1,
   "id": "a6875920",
   "metadata": {},
   "outputs": [],
   "source": [
    "import nltk\n",
    "import math as m\n",
    "import pandas as pd"
   ]
  },
  {
   "cell_type": "code",
   "execution_count": 2,
   "id": "5698cf1c",
   "metadata": {},
   "outputs": [
    {
     "name": "stdout",
     "output_type": "stream",
     "text": [
      "enter the verb: language\n",
      "enter the noun: handling\n",
      "enter the preposition: in\n",
      "enter the verb count: 3\n",
      "enter the noun count: 2\n",
      "enter the verb pp count: 2\n",
      "enter the noun pp count: 1\n",
      "noun\n"
     ]
    }
   ],
   "source": [
    "v=input(\"enter the verb: \")\n",
    "n=input(\"enter the noun: \")\n",
    "pp=input(\"enter the preposition: \")\n",
    "v_n=int(input(\"enter the verb count: \"))\n",
    "n_n=int(input(\"enter the noun count: \"))\n",
    "vpp_n=int(input(\"enter the verb pp count: \"))\n",
    "npp_n=int(input(\"enter the noun pp count: \"))\n",
    "v_a=vpp_n/v_n\n",
    "n_a=npp_n/n_n\n",
    "n_na=1-n_a\n",
    "res=(v_a*n_na)/n_a\n",
    "res=m.log(res)\n",
    "if res>0:\n",
    "    print(\"verb\")\n",
    "else:\n",
    "    print(\"noun\")"
   ]
  },
  {
   "cell_type": "markdown",
   "id": "3370719c",
   "metadata": {},
   "source": [
    "# Using Text File"
   ]
  },
  {
   "cell_type": "code",
   "execution_count": 3,
   "id": "bc4f96ae",
   "metadata": {},
   "outputs": [],
   "source": [
    "file=open('hindle.txt','r')\n",
    "txt=\"\"\n",
    "for i in file:\n",
    "    i=i.replace(\"\\n\",\"\")\n",
    "    txt=txt+i"
   ]
  },
  {
   "cell_type": "code",
   "execution_count": 4,
   "id": "3ce5ad54",
   "metadata": {},
   "outputs": [
    {
     "data": {
      "text/plain": [
       "'natural language in handling in processing is good natural language ihandling in processing is a good subject for doing mini project natural foodis always good for our health pradeepa is handling natural language in processing subject for third year student arun is always taking natural foodwith'"
      ]
     },
     "execution_count": 4,
     "metadata": {},
     "output_type": "execute_result"
    }
   ],
   "source": [
    "txt"
   ]
  },
  {
   "cell_type": "code",
   "execution_count": 5,
   "id": "d6eb0e0b",
   "metadata": {},
   "outputs": [],
   "source": [
    "unigram=txt.lower().split()"
   ]
  },
  {
   "cell_type": "code",
   "execution_count": 6,
   "id": "e220dded",
   "metadata": {},
   "outputs": [
    {
     "name": "stdout",
     "output_type": "stream",
     "text": [
      "['natural', 'language', 'in', 'handling', 'in', 'processing', 'is', 'good', 'natural', 'language', 'ihandling', 'in', 'processing', 'is', 'a', 'good', 'subject', 'for', 'doing', 'mini', 'project', 'natural', 'foodis', 'always', 'good', 'for', 'our', 'health', 'pradeepa', 'is', 'handling', 'natural', 'language', 'in', 'processing', 'subject', 'for', 'third', 'year', 'student', 'arun', 'is', 'always', 'taking', 'natural', 'foodwith']\n"
     ]
    }
   ],
   "source": [
    "print(unigram)"
   ]
  },
  {
   "cell_type": "code",
   "execution_count": 7,
   "id": "84a7d686",
   "metadata": {},
   "outputs": [],
   "source": [
    "bigram=[]\n",
    "for i in range(len(unigram)-1):\n",
    "    bigram.append(unigram[i]+\" \"+unigram[i+1])"
   ]
  },
  {
   "cell_type": "code",
   "execution_count": 8,
   "id": "2fd279fd",
   "metadata": {},
   "outputs": [
    {
     "data": {
      "text/plain": [
       "['natural language',\n",
       " 'language in',\n",
       " 'in handling',\n",
       " 'handling in',\n",
       " 'in processing',\n",
       " 'processing is',\n",
       " 'is good',\n",
       " 'good natural',\n",
       " 'natural language',\n",
       " 'language ihandling',\n",
       " 'ihandling in',\n",
       " 'in processing',\n",
       " 'processing is',\n",
       " 'is a',\n",
       " 'a good',\n",
       " 'good subject',\n",
       " 'subject for',\n",
       " 'for doing',\n",
       " 'doing mini',\n",
       " 'mini project',\n",
       " 'project natural',\n",
       " 'natural foodis',\n",
       " 'foodis always',\n",
       " 'always good',\n",
       " 'good for',\n",
       " 'for our',\n",
       " 'our health',\n",
       " 'health pradeepa',\n",
       " 'pradeepa is',\n",
       " 'is handling',\n",
       " 'handling natural',\n",
       " 'natural language',\n",
       " 'language in',\n",
       " 'in processing',\n",
       " 'processing subject',\n",
       " 'subject for',\n",
       " 'for third',\n",
       " 'third year',\n",
       " 'year student',\n",
       " 'student arun',\n",
       " 'arun is',\n",
       " 'is always',\n",
       " 'always taking',\n",
       " 'taking natural',\n",
       " 'natural foodwith']"
      ]
     },
     "execution_count": 8,
     "metadata": {},
     "output_type": "execute_result"
    }
   ],
   "source": [
    "bigram"
   ]
  },
  {
   "cell_type": "code",
   "execution_count": 9,
   "id": "fbeea428",
   "metadata": {},
   "outputs": [],
   "source": [
    "def framing(v,n,vp,np,verb,noun):\n",
    "    data={\"w\":[verb,noun],\"c(w)\":[v,n],\"c(w+p)\":[vp,np]}\n",
    "    df=pd.DataFrame(data,index=[\"->\",\"->\"])\n",
    "    print(df)\n",
    "    print(\"\\n\")"
   ]
  },
  {
   "cell_type": "code",
   "execution_count": 10,
   "id": "ceb2c05c",
   "metadata": {},
   "outputs": [],
   "source": [
    "def hindle_rooth(v,n,p):\n",
    "    v_c=unigram.count(v)\n",
    "    n_c=unigram.count(n)\n",
    "    vp_c=bigram.count(v+\" \"+p)\n",
    "    np_c=bigram.count(n+\" \"+p)\n",
    "    p1=vp_c/v_c\n",
    "    p2=np_c/n_c\n",
    "    p3=1-p2\n",
    "    res=(p1*p3)/p2\n",
    "    res=m.log(res,2)\n",
    "    framing(v_c,n_c,vp_c,np_c,v,n)\n",
    "    print(\"Noun:\",n)\n",
    "    print(\"Verb:\",v)\n",
    "    print(\"Preposition:\",p)\n",
    "    print(\"Result:\",res)\n",
    "    if res>0:\n",
    "        print(\"Preposition attaches with Verb\")\n",
    "    else:\n",
    "        print(\"Preposition attaches with Noun\")"
   ]
  },
  {
   "cell_type": "code",
   "execution_count": 11,
   "id": "288a858a",
   "metadata": {},
   "outputs": [
    {
     "name": "stdout",
     "output_type": "stream",
     "text": [
      "           w  c(w)  c(w+p)\n",
      "->  language     3       2\n",
      "->  handling     2       1\n",
      "\n",
      "\n",
      "Noun: handling\n",
      "Verb: language\n",
      "Preposition: in\n",
      "Result: -0.5849625007211563\n",
      "Preposition attaches with Noun\n"
     ]
    }
   ],
   "source": [
    "hindle_rooth(\"language\",\"handling\",\"in\")"
   ]
  },
  {
   "cell_type": "code",
   "execution_count": null,
   "id": "5bf159f5",
   "metadata": {},
   "outputs": [],
   "source": []
  },
  {
   "cell_type": "code",
   "execution_count": null,
   "id": "2f56fbc3-fa55-4fd0-ac50-cfa0d9a2d17a",
   "metadata": {},
   "outputs": [],
   "source": []
  }
 ],
 "metadata": {
  "kernelspec": {
   "display_name": "Python 3 (ipykernel)",
   "language": "python",
   "name": "python3"
  },
  "language_info": {
   "codemirror_mode": {
    "name": "ipython",
    "version": 3
   },
   "file_extension": ".py",
   "mimetype": "text/x-python",
   "name": "python",
   "nbconvert_exporter": "python",
   "pygments_lexer": "ipython3",
   "version": "3.11.7"
  }
 },
 "nbformat": 4,
 "nbformat_minor": 5
}
