{
 "cells": [
  {
   "cell_type": "code",
   "execution_count": 142,
   "id": "c2d7ae12",
   "metadata": {},
   "outputs": [],
   "source": [
    "import pandas as pd\n",
    "import numpy as np\n",
    "import math"
   ]
  },
  {
   "cell_type": "markdown",
   "id": "0f413e13",
   "metadata": {},
   "source": [
    "## NAIVE BAYES (For problem done in class)"
   ]
  },
  {
   "cell_type": "code",
   "execution_count": 143,
   "id": "ca4b0cf4",
   "metadata": {},
   "outputs": [
    {
     "data": {
      "text/html": [
       "<div>\n",
       "<style scoped>\n",
       "    .dataframe tbody tr th:only-of-type {\n",
       "        vertical-align: middle;\n",
       "    }\n",
       "\n",
       "    .dataframe tbody tr th {\n",
       "        vertical-align: top;\n",
       "    }\n",
       "\n",
       "    .dataframe thead th {\n",
       "        text-align: right;\n",
       "    }\n",
       "</style>\n",
       "<table border=\"1\" class=\"dataframe\">\n",
       "  <thead>\n",
       "    <tr style=\"text-align: right;\">\n",
       "      <th></th>\n",
       "      <th>words</th>\n",
       "      <th>sense</th>\n",
       "    </tr>\n",
       "  </thead>\n",
       "  <tbody>\n",
       "    <tr>\n",
       "      <th>0</th>\n",
       "      <td>Bass eat super</td>\n",
       "      <td>Fish</td>\n",
       "    </tr>\n",
       "    <tr>\n",
       "      <th>1</th>\n",
       "      <td>Bass lunch excellent</td>\n",
       "      <td>Fish</td>\n",
       "    </tr>\n",
       "    <tr>\n",
       "      <th>2</th>\n",
       "      <td>Bass ate like</td>\n",
       "      <td>Fish</td>\n",
       "    </tr>\n",
       "    <tr>\n",
       "      <th>3</th>\n",
       "      <td>Bass play music</td>\n",
       "      <td>Music</td>\n",
       "    </tr>\n",
       "    <tr>\n",
       "      <th>4</th>\n",
       "      <td>Bass interest play</td>\n",
       "      <td>Music</td>\n",
       "    </tr>\n",
       "  </tbody>\n",
       "</table>\n",
       "</div>"
      ],
      "text/plain": [
       "                  words  sense\n",
       "0        Bass eat super   Fish\n",
       "1  Bass lunch excellent   Fish\n",
       "2         Bass ate like   Fish\n",
       "3       Bass play music  Music\n",
       "4    Bass interest play  Music"
      ]
     },
     "execution_count": 143,
     "metadata": {},
     "output_type": "execute_result"
    }
   ],
   "source": [
    "data1={\"words\":['Bass eat super','Bass lunch excellent','Bass ate like','Bass play music','Bass interest play'],\"sense\":[\"Fish\",\"Fish\",\"Fish\",\"Music\",\"Music\"]}\n",
    "df1=pd.DataFrame(data1)\n",
    "df1"
   ]
  },
  {
   "cell_type": "code",
   "execution_count": 144,
   "id": "18c9296d",
   "metadata": {},
   "outputs": [],
   "source": [
    "def pb(df,classifier):\n",
    "    cnt=0\n",
    "    data=df\n",
    "    data=data[data.sense == classifier]\n",
    "    return len(data['sense'])/len(df['sense'])"
   ]
  },
  {
   "cell_type": "code",
   "execution_count": 145,
   "id": "b01fe060",
   "metadata": {},
   "outputs": [],
   "source": [
    "def calculate_v(df):\n",
    "    ll=df['words']\n",
    "    l=[]\n",
    "    l1=[]\n",
    "    for i in ll:\n",
    "        l1.append(i.split())\n",
    "    for i in l1:\n",
    "        for j in i:\n",
    "            if j not in l:\n",
    "                l.append(j)\n",
    "    return len(l)\n",
    "v=calculate_v(df1)"
   ]
  },
  {
   "cell_type": "code",
   "execution_count": 146,
   "id": "0743d769",
   "metadata": {},
   "outputs": [],
   "source": [
    "p_f=pb(df1,'Fish')\n",
    "p_m=pb(df1,'Music')"
   ]
  },
  {
   "cell_type": "code",
   "execution_count": 147,
   "id": "2588a43b",
   "metadata": {},
   "outputs": [],
   "source": [
    "def prob_word(df,classifier,wrd,v):\n",
    "    dff=df[df.sense==classifier]\n",
    "    cnt=0\n",
    "    for word in dff['words']:\n",
    "        if wrd in word:\n",
    "               cnt+=1\n",
    "    return (cnt+1)/(len(dff)+v)"
   ]
  },
  {
   "cell_type": "code",
   "execution_count": 148,
   "id": "1959df48",
   "metadata": {},
   "outputs": [
    {
     "data": {
      "text/plain": [
       "['Bass', 'super', 'excellent', 'play']"
      ]
     },
     "execution_count": 148,
     "metadata": {},
     "output_type": "execute_result"
    }
   ],
   "source": [
    "#test_data=\"line guitar jazz jazz\".split()\n",
    "test_data=\"Bass super excellent play\".split()\n",
    "test_data"
   ]
  },
  {
   "cell_type": "code",
   "execution_count": 149,
   "id": "e6957453",
   "metadata": {},
   "outputs": [],
   "source": [
    "def naive_bayes(df1,classifier,test_data):\n",
    "    prob_test=math.log2(pb(df1,classifier))\n",
    "    for word in test_data:\n",
    "        word_pb=math.log2(prob_word(df1,classifier,word,v))\n",
    "        prob_test=prob_test+word_pb\n",
    "    return prob_test"
   ]
  },
  {
   "cell_type": "code",
   "execution_count": 150,
   "id": "deba4a90",
   "metadata": {},
   "outputs": [
    {
     "name": "stdout",
     "output_type": "stream",
     "text": [
      "Score for p(test_data|Music) :  -12.491853096329674\n",
      "Score for p(test_data|Fish) :  -11.538724466730576\n",
      "Test data comes under Fish classification\n"
     ]
    }
   ],
   "source": [
    "pb_m=naive_bayes(df1,'Music',test_data)\n",
    "pb_f=naive_bayes(df1,'Fish',test_data)\n",
    "print(\"Score for p(test_data|Music) : \",pb_m)\n",
    "print(\"Score for p(test_data|Fish) : \",pb_f)\n",
    "if pb_f>pb_m:\n",
    "    print(\"Test data comes under Fish classification\")\n",
    "else:\n",
    "    print(\"Test data comes under Music classification\")"
   ]
  },
  {
   "cell_type": "markdown",
   "id": "13f14b1f",
   "metadata": {},
   "source": [
    "## NAIVE BAYES (For Bank dataset)"
   ]
  },
  {
   "cell_type": "code",
   "execution_count": 151,
   "id": "c481226f",
   "metadata": {},
   "outputs": [
    {
     "data": {
      "text/html": [
       "<div>\n",
       "<style scoped>\n",
       "    .dataframe tbody tr th:only-of-type {\n",
       "        vertical-align: middle;\n",
       "    }\n",
       "\n",
       "    .dataframe tbody tr th {\n",
       "        vertical-align: top;\n",
       "    }\n",
       "\n",
       "    .dataframe thead th {\n",
       "        text-align: right;\n",
       "    }\n",
       "</style>\n",
       "<table border=\"1\" class=\"dataframe\">\n",
       "  <thead>\n",
       "    <tr style=\"text-align: right;\">\n",
       "      <th></th>\n",
       "      <th>Sentences for Training</th>\n",
       "      <th>Sense of the word \"Bank\"</th>\n",
       "    </tr>\n",
       "  </thead>\n",
       "  <tbody>\n",
       "    <tr>\n",
       "      <th>0</th>\n",
       "      <td>I deposited my paycheck at the bank.</td>\n",
       "      <td>Financial Institution</td>\n",
       "    </tr>\n",
       "    <tr>\n",
       "      <th>1</th>\n",
       "      <td>The bank of the river was eroded by the heavy ...</td>\n",
       "      <td>River Border</td>\n",
       "    </tr>\n",
       "    <tr>\n",
       "      <th>2</th>\n",
       "      <td>She works at the bank as a teller.</td>\n",
       "      <td>Financial Institution</td>\n",
       "    </tr>\n",
       "    <tr>\n",
       "      <th>3</th>\n",
       "      <td>Let's have a picnic by the bank of the river.</td>\n",
       "      <td>River Border</td>\n",
       "    </tr>\n",
       "    <tr>\n",
       "      <th>4</th>\n",
       "      <td>The bank approved my loan application.</td>\n",
       "      <td>Financial Institution</td>\n",
       "    </tr>\n",
       "    <tr>\n",
       "      <th>...</th>\n",
       "      <td>...</td>\n",
       "      <td>...</td>\n",
       "    </tr>\n",
       "    <tr>\n",
       "      <th>96</th>\n",
       "      <td>I need to update my contact information with t...</td>\n",
       "      <td>?</td>\n",
       "    </tr>\n",
       "    <tr>\n",
       "      <th>97</th>\n",
       "      <td>The bank provides online banking services for ...</td>\n",
       "      <td>?</td>\n",
       "    </tr>\n",
       "    <tr>\n",
       "      <th>98</th>\n",
       "      <td>The beavers constructed a dam along the bank o...</td>\n",
       "      <td>?</td>\n",
       "    </tr>\n",
       "    <tr>\n",
       "      <th>99</th>\n",
       "      <td>I need to check my transaction history at the ...</td>\n",
       "      <td>?</td>\n",
       "    </tr>\n",
       "    <tr>\n",
       "      <th>100</th>\n",
       "      <td>She works as a financial consultant at the bank.</td>\n",
       "      <td>?</td>\n",
       "    </tr>\n",
       "  </tbody>\n",
       "</table>\n",
       "<p>101 rows × 2 columns</p>\n",
       "</div>"
      ],
      "text/plain": [
       "                               Sentences for Training   \\\n",
       "0                 I deposited my paycheck at the bank.   \n",
       "1    The bank of the river was eroded by the heavy ...   \n",
       "2                  She works at the bank as a teller.    \n",
       "3       Let's have a picnic by the bank of the river.    \n",
       "4              The bank approved my loan application.    \n",
       "..                                                 ...   \n",
       "96   I need to update my contact information with t...   \n",
       "97   The bank provides online banking services for ...   \n",
       "98   The beavers constructed a dam along the bank o...   \n",
       "99   I need to check my transaction history at the ...   \n",
       "100  She works as a financial consultant at the bank.    \n",
       "\n",
       "    Sense of the word \"Bank\"  \n",
       "0      Financial Institution  \n",
       "1               River Border  \n",
       "2      Financial Institution  \n",
       "3               River Border  \n",
       "4      Financial Institution  \n",
       "..                       ...  \n",
       "96                         ?  \n",
       "97                         ?  \n",
       "98                         ?  \n",
       "99                         ?  \n",
       "100                        ?  \n",
       "\n",
       "[101 rows x 2 columns]"
      ]
     },
     "execution_count": 151,
     "metadata": {},
     "output_type": "execute_result"
    }
   ],
   "source": [
    "data=pd.read_excel(\"Bank.xlsx\")\n",
    "del data[\"Unnamed: 0\"]\n",
    "data"
   ]
  },
  {
   "cell_type": "code",
   "execution_count": 152,
   "id": "439c3241",
   "metadata": {},
   "outputs": [],
   "source": [
    "data.columns=[\"words\",\"sense\"]\n",
    "data=data.fillna('#')"
   ]
  },
  {
   "cell_type": "code",
   "execution_count": 153,
   "id": "f809b665",
   "metadata": {},
   "outputs": [
    {
     "data": {
      "text/html": [
       "<div>\n",
       "<style scoped>\n",
       "    .dataframe tbody tr th:only-of-type {\n",
       "        vertical-align: middle;\n",
       "    }\n",
       "\n",
       "    .dataframe tbody tr th {\n",
       "        vertical-align: top;\n",
       "    }\n",
       "\n",
       "    .dataframe thead th {\n",
       "        text-align: right;\n",
       "    }\n",
       "</style>\n",
       "<table border=\"1\" class=\"dataframe\">\n",
       "  <thead>\n",
       "    <tr style=\"text-align: right;\">\n",
       "      <th></th>\n",
       "      <th>words</th>\n",
       "      <th>sense</th>\n",
       "    </tr>\n",
       "  </thead>\n",
       "  <tbody>\n",
       "    <tr>\n",
       "      <th>94</th>\n",
       "      <td>The children built a dam on the bank of the ri...</td>\n",
       "      <td>?</td>\n",
       "    </tr>\n",
       "    <tr>\n",
       "      <th>95</th>\n",
       "      <td>We need to withdraw some cash from the bank fo...</td>\n",
       "      <td>?</td>\n",
       "    </tr>\n",
       "    <tr>\n",
       "      <th>96</th>\n",
       "      <td>I need to update my contact information with t...</td>\n",
       "      <td>?</td>\n",
       "    </tr>\n",
       "    <tr>\n",
       "      <th>97</th>\n",
       "      <td>The bank provides online banking services for ...</td>\n",
       "      <td>?</td>\n",
       "    </tr>\n",
       "    <tr>\n",
       "      <th>98</th>\n",
       "      <td>The beavers constructed a dam along the bank o...</td>\n",
       "      <td>?</td>\n",
       "    </tr>\n",
       "    <tr>\n",
       "      <th>99</th>\n",
       "      <td>I need to check my transaction history at the ...</td>\n",
       "      <td>?</td>\n",
       "    </tr>\n",
       "    <tr>\n",
       "      <th>100</th>\n",
       "      <td>She works as a financial consultant at the bank.</td>\n",
       "      <td>?</td>\n",
       "    </tr>\n",
       "  </tbody>\n",
       "</table>\n",
       "</div>"
      ],
      "text/plain": [
       "                                                 words sense\n",
       "94   The children built a dam on the bank of the ri...     ?\n",
       "95   We need to withdraw some cash from the bank fo...     ?\n",
       "96   I need to update my contact information with t...     ?\n",
       "97   The bank provides online banking services for ...     ?\n",
       "98   The beavers constructed a dam along the bank o...     ?\n",
       "99   I need to check my transaction history at the ...     ?\n",
       "100  She works as a financial consultant at the bank.      ?"
      ]
     },
     "execution_count": 153,
     "metadata": {},
     "output_type": "execute_result"
    }
   ],
   "source": [
    "test_df=data[data.sense=='?']\n",
    "test_df"
   ]
  },
  {
   "cell_type": "code",
   "execution_count": 154,
   "id": "02f4a6c7",
   "metadata": {},
   "outputs": [
    {
     "data": {
      "text/html": [
       "<div>\n",
       "<style scoped>\n",
       "    .dataframe tbody tr th:only-of-type {\n",
       "        vertical-align: middle;\n",
       "    }\n",
       "\n",
       "    .dataframe tbody tr th {\n",
       "        vertical-align: top;\n",
       "    }\n",
       "\n",
       "    .dataframe thead th {\n",
       "        text-align: right;\n",
       "    }\n",
       "</style>\n",
       "<table border=\"1\" class=\"dataframe\">\n",
       "  <thead>\n",
       "    <tr style=\"text-align: right;\">\n",
       "      <th></th>\n",
       "      <th>words</th>\n",
       "      <th>sense</th>\n",
       "    </tr>\n",
       "  </thead>\n",
       "  <tbody>\n",
       "    <tr>\n",
       "      <th>0</th>\n",
       "      <td>I deposited my paycheck at the bank.</td>\n",
       "      <td>Financial Institution</td>\n",
       "    </tr>\n",
       "    <tr>\n",
       "      <th>1</th>\n",
       "      <td>The bank of the river was eroded by the heavy ...</td>\n",
       "      <td>River Border</td>\n",
       "    </tr>\n",
       "    <tr>\n",
       "      <th>2</th>\n",
       "      <td>She works at the bank as a teller.</td>\n",
       "      <td>Financial Institution</td>\n",
       "    </tr>\n",
       "    <tr>\n",
       "      <th>3</th>\n",
       "      <td>Let's have a picnic by the bank of the river.</td>\n",
       "      <td>River Border</td>\n",
       "    </tr>\n",
       "    <tr>\n",
       "      <th>4</th>\n",
       "      <td>The bank approved my loan application.</td>\n",
       "      <td>Financial Institution</td>\n",
       "    </tr>\n",
       "    <tr>\n",
       "      <th>...</th>\n",
       "      <td>...</td>\n",
       "      <td>...</td>\n",
       "    </tr>\n",
       "    <tr>\n",
       "      <th>88</th>\n",
       "      <td>The children built sandcastles along the sandy...</td>\n",
       "      <td>River Border</td>\n",
       "    </tr>\n",
       "    <tr>\n",
       "      <th>89</th>\n",
       "      <td>The otters played along the grassy bank of the...</td>\n",
       "      <td>River Border</td>\n",
       "    </tr>\n",
       "    <tr>\n",
       "      <th>90</th>\n",
       "      <td>The bank of the river was a popular spot for p...</td>\n",
       "      <td>River Border</td>\n",
       "    </tr>\n",
       "    <tr>\n",
       "      <th>91</th>\n",
       "      <td>I need to deposit this check into my checking ...</td>\n",
       "      <td>Financial Institution</td>\n",
       "    </tr>\n",
       "    <tr>\n",
       "      <th>92</th>\n",
       "      <td>The children skipped stones across the calm ba...</td>\n",
       "      <td>River Border</td>\n",
       "    </tr>\n",
       "  </tbody>\n",
       "</table>\n",
       "<p>93 rows × 2 columns</p>\n",
       "</div>"
      ],
      "text/plain": [
       "                                                words                  sense\n",
       "0                I deposited my paycheck at the bank.  Financial Institution\n",
       "1   The bank of the river was eroded by the heavy ...           River Border\n",
       "2                 She works at the bank as a teller.   Financial Institution\n",
       "3      Let's have a picnic by the bank of the river.            River Border\n",
       "4             The bank approved my loan application.   Financial Institution\n",
       "..                                                ...                    ...\n",
       "88  The children built sandcastles along the sandy...           River Border\n",
       "89  The otters played along the grassy bank of the...           River Border\n",
       "90  The bank of the river was a popular spot for p...           River Border\n",
       "91  I need to deposit this check into my checking ...  Financial Institution\n",
       "92  The children skipped stones across the calm ba...           River Border\n",
       "\n",
       "[93 rows x 2 columns]"
      ]
     },
     "execution_count": 154,
     "metadata": {},
     "output_type": "execute_result"
    }
   ],
   "source": [
    "training_df=data[data.sense!=\"?\"]\n",
    "training_df=training_df[training_df.sense!='#']\n",
    "training_df"
   ]
  },
  {
   "cell_type": "code",
   "execution_count": 155,
   "id": "357748f2",
   "metadata": {},
   "outputs": [],
   "source": [
    "v=calculate_v(training_df)"
   ]
  },
  {
   "cell_type": "code",
   "execution_count": 156,
   "id": "76682827",
   "metadata": {},
   "outputs": [
    {
     "name": "stdout",
     "output_type": "stream",
     "text": [
      "\n",
      "For Test_data :  The children built a dam on the bank of the river using rocks and sticks.\n",
      "\tScore for p(test_data|River Border) :  -74.6146740561893\n",
      "\tScore for p(test_data|Financial institution) :  -94.8532698606802\n",
      "\tTest data comes under River Border classification\n",
      "\n",
      "For Test_data :  We need to withdraw some cash from the bank for groceries.\n",
      "\tScore for p(test_data|River Border) :  -75.04675017206327\n",
      "\tScore for p(test_data|Financial institution) :  -65.8645264739505\n",
      "\tTest data comes under Financial Institution classification\n",
      "\n",
      "For Test_data :  I need to update my contact information with the bank. \n",
      "\tScore for p(test_data|River Border) :  -75.17764423891421\n",
      "\tScore for p(test_data|Financial institution) :  -54.16152571345201\n",
      "\tTest data comes under Financial Institution classification\n",
      "\n",
      "For Test_data :  The bank provides online banking services for convenience. \n",
      "\tScore for p(test_data|River Border) :  -55.6864507283287\n",
      "\tScore for p(test_data|Financial institution) :  -48.220329876806865\n",
      "\tTest data comes under Financial Institution classification\n",
      "\n",
      "For Test_data :  The beavers constructed a dam along the bank of the river.\n",
      "\tScore for p(test_data|River Border) :  -49.13895041872375\n",
      "\tScore for p(test_data|Financial institution) :  -65.6670087212531\n",
      "\tTest data comes under River Border classification\n",
      "\n",
      "For Test_data :  I need to check my transaction history at the bank. \n",
      "\tScore for p(test_data|River Border) :  -72.59268173819306\n",
      "\tScore for p(test_data|Financial institution) :  -52.309082901865864\n",
      "\tTest data comes under Financial Institution classification\n",
      "\n",
      "For Test_data :  She works as a financial consultant at the bank. \n",
      "\tScore for p(test_data|River Border) :  -57.686801194756\n",
      "\tScore for p(test_data|Financial institution) :  -46.60192208457738\n",
      "\tTest data comes under Financial Institution classification\n"
     ]
    }
   ],
   "source": [
    "for i in test_df[\"words\"]:\n",
    "    print(\"\\nFor Test_data : \",i)\n",
    "    pb_r=naive_bayes(training_df,'River Border',i.split())\n",
    "    pb_f=naive_bayes(training_df,'Financial Institution',i.split())\n",
    "    print(\"\\tScore for p(test_data|River Border) : \",pb_r)\n",
    "    print(\"\\tScore for p(test_data|Financial institution) : \",pb_f)\n",
    "    if pb_f>pb_r:\n",
    "        print(\"\\tTest data comes under Financial Institution classification\")\n",
    "    else:\n",
    "        print(\"\\tTest data comes under River Border classification\")"
   ]
  },
  {
   "cell_type": "code",
   "execution_count": null,
   "id": "211f22c0",
   "metadata": {},
   "outputs": [],
   "source": []
  }
 ],
 "metadata": {
  "kernelspec": {
   "display_name": "Python 3 (ipykernel)",
   "language": "python",
   "name": "python3"
  },
  "language_info": {
   "codemirror_mode": {
    "name": "ipython",
    "version": 3
   },
   "file_extension": ".py",
   "mimetype": "text/x-python",
   "name": "python",
   "nbconvert_exporter": "python",
   "pygments_lexer": "ipython3",
   "version": "3.10.5"
  }
 },
 "nbformat": 4,
 "nbformat_minor": 5
}
