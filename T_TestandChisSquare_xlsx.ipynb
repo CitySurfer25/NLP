{
  "cells": [
    {
      "cell_type": "code",
      "execution_count": null,
      "id": "15938fbd",
      "metadata": {
        "id": "15938fbd"
      },
      "outputs": [],
      "source": [
        "from nltk.tokenize import word_tokenize\n",
        "from collections import Counter\n",
        "from nltk import bigrams\n",
        "import pandas as pd\n",
        "import numpy as np\n",
        "import nltk"
      ]
    },
    {
      "cell_type": "code",
      "execution_count": null,
      "id": "26949798",
      "metadata": {
        "id": "26949798"
      },
      "outputs": [],
      "source": [
        "new_count = 15828\n",
        "companies_count = 4675\n",
        "new_companies_count = 8\n",
        "total_count = 14307668\n",
        "critical_value = 2.576"
      ]
    },
    {
      "cell_type": "markdown",
      "id": "1da3f0f3",
      "metadata": {
        "id": "1da3f0f3"
      },
      "source": [
        "# T test"
      ]
    },
    {
      "cell_type": "code",
      "execution_count": null,
      "id": "5dfef2a1",
      "metadata": {
        "id": "5dfef2a1"
      },
      "outputs": [],
      "source": [
        "def t_test(x_count,y_count,xy_count,total_count):\n",
        "    calculated_mean = xy_count/total_count\n",
        "    expected_mean = x_count/total_count * y_count/total_count\n",
        "    sample_variance = calculated_mean\n",
        "    t = (calculated_mean - expected_mean)/np.sqrt(sample_variance/total_count)\n",
        "    return t"
      ]
    },
    {
      "cell_type": "markdown",
      "id": "1465c00f",
      "metadata": {
        "id": "1465c00f"
      },
      "source": [
        "# Chi-Squared test"
      ]
    },
    {
      "cell_type": "code",
      "execution_count": null,
      "id": "a303e6ef",
      "metadata": {
        "id": "a303e6ef"
      },
      "outputs": [],
      "source": [
        "def chi_squared_test(x_count,y_count,xy_count,total_count):\n",
        "    x_y = xy_count\n",
        "    x_ny = y_count - xy_count\n",
        "    nx_y = x_count - xy_count\n",
        "    nx_ny = total_count - (x_y+x_ny+nx_y)\n",
        "    ex_y = (x_y+nx_y)*(x_y+x_ny)/total_count\n",
        "    ex_ny = (x_y+x_ny)*(x_ny+nx_ny)/total_count\n",
        "    enx_y = (x_y+nx_y)*(nx_y+nx_ny)/total_count\n",
        "    enx_ny = (nx_y+nx_ny)*(x_ny+nx_ny)/total_count\n",
        "    chi_value = pow((x_y-ex_y),2)/ex_y + pow((x_ny-ex_ny),2)/ex_ny + pow((nx_y-enx_y),2)/enx_y + pow((nx_ny-enx_ny),2)/enx_ny\n",
        "    return chi_value"
      ]
    },
    {
      "cell_type": "code",
      "execution_count": null,
      "id": "2d93f58b",
      "metadata": {
        "id": "2d93f58b",
        "outputId": "4c3115f5-d0e5-4929-e605-6a00120a341f"
      },
      "outputs": [
        {
          "data": {
            "text/plain": [
              "0.9999319894802036"
            ]
          },
          "execution_count": 5,
          "metadata": {},
          "output_type": "execute_result"
        }
      ],
      "source": [
        "t_value = t_test(new_count,companies_count,new_companies_count,total_count)\n",
        "t_value"
      ]
    },
    {
      "cell_type": "code",
      "execution_count": null,
      "id": "0edf96fd",
      "metadata": {
        "id": "0edf96fd",
        "outputId": "b148153e-647a-420a-b1b0-3d3d7900b12d"
      },
      "outputs": [
        {
          "data": {
            "text/plain": [
              "1.54886920672822"
            ]
          },
          "execution_count": 6,
          "metadata": {},
          "output_type": "execute_result"
        }
      ],
      "source": [
        "chi_value = chi_squared_test(new_count,companies_count,new_companies_count,total_count)\n",
        "chi_value"
      ]
    },
    {
      "cell_type": "code",
      "execution_count": null,
      "id": "67c58fc4",
      "metadata": {
        "id": "67c58fc4",
        "outputId": "78007e49-2032-41bc-ebcf-21a5b65f7619"
      },
      "outputs": [
        {
          "name": "stdout",
          "output_type": "stream",
          "text": [
            "The Words are Not Collocated\n"
          ]
        }
      ],
      "source": [
        "if t_value<critical_value:\n",
        "    print(\"The Words are Not Collocated\")\n",
        "else:\n",
        "    print(\"The Words are Collocated\")"
      ]
    },
    {
      "cell_type": "code",
      "execution_count": null,
      "id": "717f14af",
      "metadata": {
        "id": "717f14af",
        "outputId": "98a77b15-8beb-4e3b-dd81-381362a955ee"
      },
      "outputs": [
        {
          "name": "stdout",
          "output_type": "stream",
          "text": [
            "The Words are Not Collocated\n"
          ]
        }
      ],
      "source": [
        "if chi_value<critical_value:\n",
        "    print(\"The Words are Not Collocated\")\n",
        "else:\n",
        "    print(\"The Words are Collocated\")"
      ]
    },
    {
      "cell_type": "code",
      "execution_count": null,
      "id": "b19dffd7",
      "metadata": {
        "id": "b19dffd7"
      },
      "outputs": [],
      "source": [
        "df = pd.read_excel(\"SASTRA_University.xlsx\", header=None)"
      ]
    },
    {
      "cell_type": "code",
      "execution_count": null,
      "id": "ecf8ae45",
      "metadata": {
        "id": "ecf8ae45"
      },
      "outputs": [],
      "source": [
        "sentences = df[0]\n",
        "tokenized_sentences = sentences.apply(word_tokenize)\n",
        "df['tokenized_sentences'] = tokenized_sentences"
      ]
    },
    {
      "cell_type": "code",
      "execution_count": null,
      "id": "c2667676",
      "metadata": {
        "id": "c2667676"
      },
      "outputs": [],
      "source": [
        "sastra_counts = tokenized_sentences.apply(lambda sentence: sentence.count('Sastra'))\n",
        "university_counts = tokenized_sentences.apply(lambda sentence: sentence.count('University'))\n",
        "tot_count = tokenized_sentences.apply(lambda sentence: len(sentence))"
      ]
    },
    {
      "cell_type": "code",
      "execution_count": null,
      "id": "4ec86797",
      "metadata": {
        "id": "4ec86797"
      },
      "outputs": [],
      "source": [
        "sastra_count = sastra_counts.sum()\n",
        "university_count = university_counts.sum()\n",
        "all_bigrams = [bigram for sentence in tokenized_sentences for bigram in list(bigrams(sentence))]\n",
        "target_bigram = ('Sastra', 'University')\n",
        "sastra_university_count = Counter(all_bigrams)[target_bigram]\n",
        "tot_count = tot_count.sum()"
      ]
    },
    {
      "cell_type": "code",
      "execution_count": null,
      "id": "8f170847",
      "metadata": {
        "id": "8f170847",
        "outputId": "f5d7b73f-2b3c-4254-e032-005e85837e11"
      },
      "outputs": [
        {
          "data": {
            "text/plain": [
              "50"
            ]
          },
          "execution_count": 13,
          "metadata": {},
          "output_type": "execute_result"
        }
      ],
      "source": [
        "len(tokenized_sentences)"
      ]
    },
    {
      "cell_type": "code",
      "execution_count": null,
      "id": "a15a0061",
      "metadata": {
        "id": "a15a0061",
        "outputId": "023b198d-678c-4fa3-89c6-4840b72969b0"
      },
      "outputs": [
        {
          "data": {
            "text/plain": [
              "5.65684079448202"
            ]
          },
          "execution_count": 14,
          "metadata": {},
          "output_type": "execute_result"
        }
      ],
      "source": [
        "t = t_test(sastra_count,university_count,sastra_university_count,total_count)\n",
        "t"
      ]
    }
  ],
  "metadata": {
    "kernelspec": {
      "display_name": "Python 3",
      "language": "python",
      "name": "python3"
    },
    "language_info": {
      "codemirror_mode": {
        "name": "ipython",
        "version": 3
      },
      "file_extension": ".py",
      "mimetype": "text/x-python",
      "name": "python",
      "nbconvert_exporter": "python",
      "pygments_lexer": "ipython3",
      "version": "3.8.8"
    },
    "colab": {
      "provenance": []
    }
  },
  "nbformat": 4,
  "nbformat_minor": 5
}