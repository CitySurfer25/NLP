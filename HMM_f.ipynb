{
 "cells": [
  {
   "cell_type": "code",
   "execution_count": 1,
   "id": "9e3dac19",
   "metadata": {},
   "outputs": [],
   "source": [
    "import numpy as np"
   ]
  },
  {
   "cell_type": "code",
   "execution_count": 2,
   "id": "ae54df38",
   "metadata": {},
   "outputs": [],
   "source": [
    "def forw(a,b,pi,obs):\n",
    "    T=len(obs)\n",
    "    N=a.shape[0]\n",
    "    alpha=np.zeros((N,T))\n",
    "    alpha[:,0]=pi * b[:,obs[0]]\n",
    "    for t in range(1,T):\n",
    "        for j in range(N):\n",
    "            alpha[j,t]=np.sum(alpha[:,t-1]* a[:,j]) * b[j,obs[t]]\n",
    "    seq_prob= np.sum(alpha[:,-1])\n",
    "    return seq_prob"
   ]
  },
  {
   "cell_type": "code",
   "execution_count": 3,
   "id": "287739b4",
   "metadata": {},
   "outputs": [],
   "source": [
    "def viterbi(a,b,pi,obs):\n",
    "    T=len(obs)\n",
    "    N=a.shape[0]\n",
    "    gamma=np.zeros((N,T))\n",
    "    path=np.zeros((N,T))\n",
    "    gamma[:,0]=pi * b[:,obs[0]]\n",
    "    for t in range(1,T):\n",
    "        for j in range(N):\n",
    "            (gamma[j,t],path[j,t])=max((gamma[i,t-1]* a[i,j] * b[j,obs[t]],i) for i in range(N))\n",
    "    best_path=[]\n",
    "    last_state= np.argmax(gamma[:,T-1])\n",
    "    best_path.append(last_state)\n",
    "    for t in range(T-1,0,-1):\n",
    "        last_state= int(path[last_state, t])\n",
    "        best_path.insert(0,last_state)\n",
    "    \n",
    "    seq_prob= np.max(gamma[:,-1])\n",
    "    return best_path,seq_prob"
   ]
  },
  {
   "cell_type": "code",
   "execution_count": 4,
   "id": "7a9b0845",
   "metadata": {},
   "outputs": [],
   "source": [
    "def backw(a,b,pi,obs):\n",
    "    T=len(obs)\n",
    "    N=a.shape[0]\n",
    "    beta=np.zeros((N,T))\n",
    "    beta[:,-1]=1\n",
    "    for t in range(T-2,-1,-1):\n",
    "        for i in range(N):\n",
    "            beta[i,t]= np.sum(a[i,:] *b [:,obs[t+1]] * beta[:,t+1])\n",
    "            fin_prob=np.sum(pi* b[:,obs[0]] * beta[:,0])\n",
    "    return fin_prob"
   ]
  },
  {
   "cell_type": "code",
   "execution_count": 5,
   "id": "cd44af97",
   "metadata": {},
   "outputs": [],
   "source": [
    "A = np.array([[0.7,0.3],[0.5,0.5]])\n",
    "B = np.array([[0.6,0.1,0.3],[0.1,0.7,0.2]]) \n",
    "pi = np.array([1,0])\n",
    "obs_seq = [2, 1, 0]\n",
    "states={'s1':0,'s2':1}"
   ]
  },
  {
   "cell_type": "code",
   "execution_count": 6,
   "id": "76c61d04",
   "metadata": {},
   "outputs": [
    {
     "name": "stdout",
     "output_type": "stream",
     "text": [
      "forward:  0.0315\n"
     ]
    }
   ],
   "source": [
    "print(\"forward: \",forw(A,B,pi,obs_seq))"
   ]
  },
  {
   "cell_type": "code",
   "execution_count": 7,
   "id": "1bf7f7e6",
   "metadata": {},
   "outputs": [
    {
     "name": "stdout",
     "output_type": "stream",
     "text": [
      "Backward:  0.03149999999999999\n"
     ]
    }
   ],
   "source": [
    "print(\"Backward: \",backw(A,B,pi,obs_seq))"
   ]
  },
  {
   "cell_type": "code",
   "execution_count": 8,
   "id": "b7353b4b",
   "metadata": {},
   "outputs": [
    {
     "name": "stdout",
     "output_type": "stream",
     "text": [
      "Best:  ['s1', 's2', 's1']\n",
      "verti prob 0.0189\n"
     ]
    }
   ],
   "source": [
    "best,prob_v=viterbi(A,B,pi,obs_seq)\n",
    "for i in range(len(best)):\n",
    "    for key in states:\n",
    "        if states[key]==best[i]:\n",
    "            best[i]=key\n",
    "print(\"Best: \",best)\n",
    "print(\"verti prob\",prob_v)"
   ]
  },
  {
   "cell_type": "code",
   "execution_count": null,
   "id": "e3af20f1",
   "metadata": {},
   "outputs": [],
   "source": []
  },
  {
   "cell_type": "code",
   "execution_count": 9,
   "id": "34cd317e",
   "metadata": {},
   "outputs": [],
   "source": [
    "import pandas as pd\n",
    "import numpy as np\n",
    "import math as m\n",
    "import random as r"
   ]
  },
  {
   "cell_type": "code",
   "execution_count": 10,
   "id": "588b3acf",
   "metadata": {},
   "outputs": [
    {
     "name": "stdout",
     "output_type": "stream",
     "text": [
      "Enter the no of sequence: 3\n",
      "Enter the sequence: lem\n",
      "Enter the sequence: ice-t\n",
      "Enter the sequence: cola\n",
      "[2, 1, 0]\n"
     ]
    }
   ],
   "source": [
    "dicts={\"cola\":0,\"ice-t\":1,\"lem\":2}\n",
    "obs=[]\n",
    "n=int(input(\"Enter the no of sequence: \"))\n",
    "for i in range(n):\n",
    "    inp=input(\"Enter the sequence: \")\n",
    "    obs.append(dicts[inp])\n",
    "print(obs)\n",
    "s=['A','B']\n",
    "st=np.array([1,0])\n",
    "tr=np.array([[0.7, 0.3],[0.5, 0.5]])\n",
    "e=np.array([[0.6, 0.1, 0.3],[0.1, 0.7, 0.2]])\n",
    "seq={0:\"A\",1:\"B\"}"
   ]
  },
  {
   "cell_type": "code",
   "execution_count": 11,
   "id": "cd75b3e2",
   "metadata": {},
   "outputs": [],
   "source": [
    "def forward_p(obs,s,st,tr,e):\n",
    "    nobs=len(obs)\n",
    "    ns=len(s)\n",
    "    \n",
    "    f=np.zeros((ns,nobs))\n",
    "    \n",
    "    for i in range(ns):\n",
    "        f[i,0]=st[i] * e[i,obs[0]]\n",
    "\n",
    "    for t in range(1,nobs):\n",
    "        for j in range(ns):\n",
    "            f[j,t]=sum(f[i, t-1] * tr[i, j] * e[j, obs[t]] for i in range(ns))\n",
    "    p=sum(f[i,nobs-1] for i in range(ns))\n",
    "    return f,p\n"
   ]
  },
  {
   "cell_type": "code",
   "execution_count": 12,
   "id": "178582e1",
   "metadata": {},
   "outputs": [
    {
     "name": "stdout",
     "output_type": "stream",
     "text": [
      "Forward:  [[0.3     0.021   0.02772]\n",
      " [0.      0.063   0.00378]]\n",
      "prob:  0.0315\n"
     ]
    }
   ],
   "source": [
    "f,p=forward_p(obs,s,st,tr,e)\n",
    "print(\"Forward: \",f)\n",
    "print(\"prob: \",p) "
   ]
  },
  {
   "cell_type": "code",
   "execution_count": 13,
   "id": "7ba78b94",
   "metadata": {},
   "outputs": [],
   "source": [
    "def viterbi_p(obs,s,st,tr,e):\n",
    "    nobs=len(obs)\n",
    "    ns=len(s)\n",
    "    \n",
    "    v=np.zeros((ns,nobs))\n",
    "    path=np.zeros((ns,nobs))\n",
    "    \n",
    "    for i in range(ns):\n",
    "        v[i,0]=st[i] * e[i,obs[0]]\n",
    "\n",
    "    for t in range(1,nobs):\n",
    "        for j in range(ns):\n",
    "            (prob,state)=max((v[i, t-1] * tr[i, j] * e[j, obs[t]],i)for i in range(ns))\n",
    "            v[j,t]=prob\n",
    "            path[j,t]=state\n",
    "    bp=[]\n",
    "    ls=np.argmax(v[:,nobs-1])\n",
    "    bp.append(ls)\n",
    "    for h in range(nobs-1,0,-1):\n",
    "        ls=int(path[ls,h])\n",
    "        bp.insert(0,ls)\n",
    "    pr=np.max(v[:,nobs-1])\n",
    "    return bp,pr"
   ]
  },
  {
   "cell_type": "code",
   "execution_count": 14,
   "id": "5fc2e63c",
   "metadata": {},
   "outputs": [
    {
     "name": "stdout",
     "output_type": "stream",
     "text": [
      "[0, 1, 0]\n",
      "0.0189\n",
      "['A', 'B', 'A']\n"
     ]
    }
   ],
   "source": [
    "bp,pr=viterbi_p(obs,s,st,tr,e)\n",
    "print(bp)\n",
    "print(pr)\n",
    "ved=[]\n",
    "for i in bp:\n",
    "    ved.append(seq[i])\n",
    "print(ved)   "
   ]
  },
  {
   "cell_type": "code",
   "execution_count": 15,
   "id": "9075edaf",
   "metadata": {},
   "outputs": [],
   "source": [
    "def backward_p(obs,s,st,tr,e):\n",
    "    nobs=len(obs)\n",
    "    ns=len(s)\n",
    "    \n",
    "    ba=np.zeros((ns,nobs))\n",
    "    \n",
    "    ba[:,-1]=1\n",
    "\n",
    "    for t in range(nobs-2,-1,-1):\n",
    "        for i in range(ns):\n",
    "            ba[i,t]=sum(tr[i, j] * e[j, obs[t+1]] * ba[j, t+1] for j in range(ns))\n",
    "    pb=sum(st[i] * e[i,obs[0]] * ba[i,0] for i in range(ns))\n",
    "    return ba,pb"
   ]
  },
  {
   "cell_type": "code",
   "execution_count": 16,
   "id": "c403fe12",
   "metadata": {},
   "outputs": [
    {
     "name": "stdout",
     "output_type": "stream",
     "text": [
      "Backward:  [[0.105 0.45  1.   ]\n",
      " [0.145 0.35  1.   ]]\n",
      "prob:  0.03149999999999999\n"
     ]
    }
   ],
   "source": [
    "ba,pb=backward_p(obs,s,st,tr,e)\n",
    "print(\"Backward: \",ba)\n",
    "print(\"prob: \",pb) "
   ]
  },
  {
   "cell_type": "code",
   "execution_count": null,
   "id": "9824ba7d",
   "metadata": {},
   "outputs": [],
   "source": []
  }
 ],
 "metadata": {
  "kernelspec": {
   "display_name": "Python 3 (ipykernel)",
   "language": "python",
   "name": "python3"
  },
  "language_info": {
   "codemirror_mode": {
    "name": "ipython",
    "version": 3
   },
   "file_extension": ".py",
   "mimetype": "text/x-python",
   "name": "python",
   "nbconvert_exporter": "python",
   "pygments_lexer": "ipython3",
   "version": "3.11.4"
  }
 },
 "nbformat": 4,
 "nbformat_minor": 5
}
