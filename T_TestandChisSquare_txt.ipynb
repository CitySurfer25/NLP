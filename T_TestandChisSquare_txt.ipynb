{
 "cells": [
  {
   "cell_type": "code",
   "execution_count": 33,
   "id": "4a86768e",
   "metadata": {},
   "outputs": [],
   "source": [
    "import nltk\n",
    "import numpy as np\n",
    "from nltk.corpus import wordnet,stopwords\n",
    "import re\n",
    "import math as m\n",
    "import string\n"
   ]
  },
  {
   "cell_type": "code",
   "execution_count": 34,
   "id": "23f90211",
   "metadata": {},
   "outputs": [],
   "source": [
    "stop_words=set(stopwords.words('english')) "
   ]
  },
  {
   "cell_type": "code",
   "execution_count": 35,
   "id": "1ce19cb2",
   "metadata": {},
   "outputs": [
    {
     "data": {
      "text/plain": [
       "{'a',\n",
       " 'about',\n",
       " 'above',\n",
       " 'after',\n",
       " 'again',\n",
       " 'against',\n",
       " 'ain',\n",
       " 'all',\n",
       " 'am',\n",
       " 'an',\n",
       " 'and',\n",
       " 'any',\n",
       " 'are',\n",
       " 'aren',\n",
       " \"aren't\",\n",
       " 'as',\n",
       " 'at',\n",
       " 'be',\n",
       " 'because',\n",
       " 'been',\n",
       " 'before',\n",
       " 'being',\n",
       " 'below',\n",
       " 'between',\n",
       " 'both',\n",
       " 'but',\n",
       " 'by',\n",
       " 'can',\n",
       " 'couldn',\n",
       " \"couldn't\",\n",
       " 'd',\n",
       " 'did',\n",
       " 'didn',\n",
       " \"didn't\",\n",
       " 'do',\n",
       " 'does',\n",
       " 'doesn',\n",
       " \"doesn't\",\n",
       " 'doing',\n",
       " 'don',\n",
       " \"don't\",\n",
       " 'down',\n",
       " 'during',\n",
       " 'each',\n",
       " 'few',\n",
       " 'for',\n",
       " 'from',\n",
       " 'further',\n",
       " 'had',\n",
       " 'hadn',\n",
       " \"hadn't\",\n",
       " 'has',\n",
       " 'hasn',\n",
       " \"hasn't\",\n",
       " 'have',\n",
       " 'haven',\n",
       " \"haven't\",\n",
       " 'having',\n",
       " 'he',\n",
       " 'her',\n",
       " 'here',\n",
       " 'hers',\n",
       " 'herself',\n",
       " 'him',\n",
       " 'himself',\n",
       " 'his',\n",
       " 'how',\n",
       " 'i',\n",
       " 'if',\n",
       " 'in',\n",
       " 'into',\n",
       " 'is',\n",
       " 'isn',\n",
       " \"isn't\",\n",
       " 'it',\n",
       " \"it's\",\n",
       " 'its',\n",
       " 'itself',\n",
       " 'just',\n",
       " 'll',\n",
       " 'm',\n",
       " 'ma',\n",
       " 'me',\n",
       " 'mightn',\n",
       " \"mightn't\",\n",
       " 'more',\n",
       " 'most',\n",
       " 'mustn',\n",
       " \"mustn't\",\n",
       " 'my',\n",
       " 'myself',\n",
       " 'needn',\n",
       " \"needn't\",\n",
       " 'no',\n",
       " 'nor',\n",
       " 'not',\n",
       " 'now',\n",
       " 'o',\n",
       " 'of',\n",
       " 'off',\n",
       " 'on',\n",
       " 'once',\n",
       " 'only',\n",
       " 'or',\n",
       " 'other',\n",
       " 'our',\n",
       " 'ours',\n",
       " 'ourselves',\n",
       " 'out',\n",
       " 'over',\n",
       " 'own',\n",
       " 're',\n",
       " 's',\n",
       " 'same',\n",
       " 'shan',\n",
       " \"shan't\",\n",
       " 'she',\n",
       " \"she's\",\n",
       " 'should',\n",
       " \"should've\",\n",
       " 'shouldn',\n",
       " \"shouldn't\",\n",
       " 'so',\n",
       " 'some',\n",
       " 'such',\n",
       " 't',\n",
       " 'than',\n",
       " 'that',\n",
       " \"that'll\",\n",
       " 'the',\n",
       " 'their',\n",
       " 'theirs',\n",
       " 'them',\n",
       " 'themselves',\n",
       " 'then',\n",
       " 'there',\n",
       " 'these',\n",
       " 'they',\n",
       " 'this',\n",
       " 'those',\n",
       " 'through',\n",
       " 'to',\n",
       " 'too',\n",
       " 'under',\n",
       " 'until',\n",
       " 'up',\n",
       " 've',\n",
       " 'very',\n",
       " 'was',\n",
       " 'wasn',\n",
       " \"wasn't\",\n",
       " 'we',\n",
       " 'were',\n",
       " 'weren',\n",
       " \"weren't\",\n",
       " 'what',\n",
       " 'when',\n",
       " 'where',\n",
       " 'which',\n",
       " 'while',\n",
       " 'who',\n",
       " 'whom',\n",
       " 'why',\n",
       " 'will',\n",
       " 'with',\n",
       " 'won',\n",
       " \"won't\",\n",
       " 'wouldn',\n",
       " \"wouldn't\",\n",
       " 'y',\n",
       " 'you',\n",
       " \"you'd\",\n",
       " \"you'll\",\n",
       " \"you're\",\n",
       " \"you've\",\n",
       " 'your',\n",
       " 'yours',\n",
       " 'yourself',\n",
       " 'yourselves'}"
      ]
     },
     "execution_count": 35,
     "metadata": {},
     "output_type": "execute_result"
    }
   ],
   "source": [
    "stop_words"
   ]
  },
  {
   "cell_type": "code",
   "execution_count": 36,
   "id": "dafca10a",
   "metadata": {},
   "outputs": [],
   "source": [
    "file=open('ttest_chisquare.txt','r')\n",
    "text=file.read() "
   ]
  },
  {
   "cell_type": "code",
   "execution_count": 37,
   "id": "70e39c28",
   "metadata": {},
   "outputs": [
    {
     "name": "stdout",
     "output_type": "stream",
     "text": [
      "she knocked the door\n",
      "they knocked at the door\n",
      "a man knocked on the metal front door\n",
      "she knocked door\n"
     ]
    }
   ],
   "source": [
    "print(text)"
   ]
  },
  {
   "cell_type": "code",
   "execution_count": 38,
   "id": "9c12b20d",
   "metadata": {},
   "outputs": [
    {
     "name": "stderr",
     "output_type": "stream",
     "text": [
      "[nltk_data] Downloading package punkt to\n",
      "[nltk_data]     C:\\Users\\USER\\AppData\\Roaming\\nltk_data...\n",
      "[nltk_data]   Package punkt is already up-to-date!\n"
     ]
    },
    {
     "data": {
      "text/plain": [
       "True"
      ]
     },
     "execution_count": 38,
     "metadata": {},
     "output_type": "execute_result"
    }
   ],
   "source": [
    "nltk.download('punkt')"
   ]
  },
  {
   "cell_type": "code",
   "execution_count": 39,
   "id": "5c140b50",
   "metadata": {},
   "outputs": [
    {
     "name": "stdout",
     "output_type": "stream",
     "text": [
      "['she knocked the door\\nthey knocked at the door\\na man knocked on the metal front door\\nshe knocked door']\n"
     ]
    }
   ],
   "source": [
    "sents=nltk.sent_tokenize(text)\n",
    "print(sents)"
   ]
  },
  {
   "cell_type": "code",
   "execution_count": 40,
   "id": "90ae4576",
   "metadata": {},
   "outputs": [],
   "source": [
    "for j in sents:\n",
    "    ws=nltk.word_tokenize(j)\n"
   ]
  },
  {
   "cell_type": "code",
   "execution_count": 41,
   "id": "d4f093e7",
   "metadata": {},
   "outputs": [
    {
     "data": {
      "text/plain": [
       "['she',\n",
       " 'knocked',\n",
       " 'the',\n",
       " 'door',\n",
       " 'they',\n",
       " 'knocked',\n",
       " 'at',\n",
       " 'the',\n",
       " 'door',\n",
       " 'a',\n",
       " 'man',\n",
       " 'knocked',\n",
       " 'on',\n",
       " 'the',\n",
       " 'metal',\n",
       " 'front',\n",
       " 'door',\n",
       " 'she',\n",
       " 'knocked',\n",
       " 'door']"
      ]
     },
     "execution_count": 41,
     "metadata": {},
     "output_type": "execute_result"
    }
   ],
   "source": [
    "ws"
   ]
  },
  {
   "cell_type": "code",
   "execution_count": 42,
   "id": "38cecfba",
   "metadata": {},
   "outputs": [],
   "source": [
    "texts=[] \n",
    "for wrds in ws:\n",
    "    if wrds not in stop_words:\n",
    "        texts.append(wrds)"
   ]
  },
  {
   "cell_type": "code",
   "execution_count": 43,
   "id": "221ee684",
   "metadata": {
    "scrolled": true
   },
   "outputs": [
    {
     "data": {
      "text/plain": [
       "['knocked',\n",
       " 'door',\n",
       " 'knocked',\n",
       " 'door',\n",
       " 'man',\n",
       " 'knocked',\n",
       " 'metal',\n",
       " 'front',\n",
       " 'door',\n",
       " 'knocked',\n",
       " 'door']"
      ]
     },
     "execution_count": 43,
     "metadata": {},
     "output_type": "execute_result"
    }
   ],
   "source": [
    "texts"
   ]
  },
  {
   "cell_type": "code",
   "execution_count": 44,
   "id": "fd6205cd",
   "metadata": {},
   "outputs": [
    {
     "data": {
      "text/plain": [
       "11"
      ]
     },
     "execution_count": 44,
     "metadata": {},
     "output_type": "execute_result"
    }
   ],
   "source": [
    "n=len(texts)\n",
    "n"
   ]
  },
  {
   "cell_type": "code",
   "execution_count": 66,
   "id": "ff602ec2",
   "metadata": {},
   "outputs": [],
   "source": [
    "def t_test(w1,w2,c1,c2,c12):\n",
    "    pw1=c1/n\n",
    "    pw2=c2/n\n",
    "    \n",
    "    #expected mean\n",
    "    ex_mean=pw1*pw2\n",
    "    ob_mean=c12/n\n",
    "    s_2=ob_mean\n",
    "    \n",
    "    diff=ob_mean-ex_mean\n",
    "    v=m.sqrt((s_2/n))\n",
    "    t=diff/v\n",
    "    \n",
    "    t=round(t,2)\n",
    "    \n",
    "    d={}\n",
    "    d['t-value']=t\n",
    "    d['word1']=w1\n",
    "    d['word2']=w2\n",
    "    return d"
   ]
  },
  {
   "cell_type": "code",
   "execution_count": 67,
   "id": "e57a8309",
   "metadata": {},
   "outputs": [],
   "source": [
    "def chi_2_test(w1,w2,c1,c2,c12):\n",
    "    a=c12\n",
    "    b=c1-a\n",
    "    \n",
    "    c=c2-a\n",
    "    r2=n-c1\n",
    "    d=r2-c\n",
    "    \n",
    "    r1=a+b\n",
    "    e=a+c\n",
    "    f=b+d\n",
    "    \n",
    "    e_w1=(r1*e)/n\n",
    "    e_w2=(r1*f)/n\n",
    "    e_w3=(e*r2)/n\n",
    "    e_w4=(f*r2)/n\n",
    "    \n",
    "    s1=(np.square(a-e_w1))/e_w1\n",
    "    s2=(np.square(b-e_w2))/e_w2\n",
    "    s3=(np.square(c-e_w3))/e_w3\n",
    "    s4=(np.square(d-e_w4))/e_w4\n",
    "    \n",
    "    c={}\n",
    "    c['chi_val']=s1+s2+s3+s4\n",
    "    c['word1']=w1\n",
    "    c['word2']=w2\n",
    "    \n",
    "    return c"
   ]
  },
  {
   "cell_type": "code",
   "execution_count": 68,
   "id": "322decfc",
   "metadata": {},
   "outputs": [],
   "source": [
    "ttest=[]\n",
    "chi2test=[] \n",
    "for i in range(len(texts)-1):\n",
    "    w1=texts[i]\n",
    "    w2=texts[i+1]\n",
    "    w12=w1+\" \"+w2\n",
    "    if w1==\"knocked\" and w2==\"door\":\n",
    "        c1=0\n",
    "        c2=0\n",
    "        c12=0\n",
    "        for w in range(len(texts)-1):\n",
    "            if texts[w]==w1:\n",
    "                c1+=1\n",
    "                if texts[w+1]==w2:\n",
    "                    c12+=1\n",
    "            if texts[w]==w2:\n",
    "                c2+=1\n",
    "        ttest.append(t_test(w1,w2,c1,c2,c12))\n",
    "        chi2test.append(chi_2_test(w1,w2,c1,c2,c12)) \n",
    "        "
   ]
  },
  {
   "cell_type": "code",
   "execution_count": 69,
   "id": "2fe773ef",
   "metadata": {},
   "outputs": [
    {
     "name": "stdin",
     "output_type": "stream",
     "text": [
      "enter:  0.25\n"
     ]
    }
   ],
   "source": [
    "critic_value=float(input(\"enter: \"))"
   ]
  },
  {
   "cell_type": "code",
   "execution_count": 70,
   "id": "7555a5f6",
   "metadata": {},
   "outputs": [
    {
     "name": "stdout",
     "output_type": "stream",
     "text": [
      "t-test:\n",
      "\n",
      "t-value: 1.1 \t Words:  knocked and door  are collocated!\n",
      "t-value: 1.1 \t Words:  knocked and door  are collocated!\n",
      "t-value: 1.1 \t Words:  knocked and door  are collocated!\n"
     ]
    }
   ],
   "source": [
    "print(\"t-test:\\n\")\n",
    "for d in ttest:\n",
    "    if d['t-value'] > critic_value:\n",
    "        print(\"t-value:\",d['t-value'],\"\\t Words: \",d['word1'],\"and\",d['word2'],\" are collocated!\",end = \"\\n\")\n",
    "    else:\n",
    "        print(\"t-value:\",d['t-value'],\"\\t Words: \",d['word1'],\"and\",d['word2'], \" are not collocated!\",end = \"\\n\")"
   ]
  },
  {
   "cell_type": "code",
   "execution_count": 71,
   "id": "f3f33b45",
   "metadata": {},
   "outputs": [
    {
     "name": "stdout",
     "output_type": "stream",
     "text": [
      "chi^2-test:\n",
      "\n",
      "chi_value: 7.218750000000001 \t Words:  knocked and door  are collocated!\n",
      "chi_value: 7.218750000000001 \t Words:  knocked and door  are collocated!\n",
      "chi_value: 7.218750000000001 \t Words:  knocked and door  are collocated!\n"
     ]
    }
   ],
   "source": [
    "print(\"chi^2-test:\\n\")\n",
    "for d in chi2test:\n",
    "    if d['chi_val'] > critic_value:\n",
    "        print(\"chi_value:\",d['chi_val'],\"\\t Words: \",d['word1'],\"and\",d['word2'],\" are collocated!\",end = \"\\n\")\n",
    "    else:\n",
    "        print(\"chi_value:\",d['chi_val'],\"\\t Words: \",d['word1'],\"and\",d['word2'], \" are not collocated!\",end = \"\\n\")"
   ]
  },
  {
   "cell_type": "code",
   "execution_count": null,
   "id": "f656948b-e7a4-4f52-9eab-e8bb62381897",
   "metadata": {},
   "outputs": [],
   "source": []
  }
 ],
 "metadata": {
  "kernelspec": {
   "display_name": "Python 3 (ipykernel)",
   "language": "python",
   "name": "python3"
  },
  "language_info": {
   "codemirror_mode": {
    "name": "ipython",
    "version": 3
   },
   "file_extension": ".py",
   "mimetype": "text/x-python",
   "name": "python",
   "nbconvert_exporter": "python",
   "pygments_lexer": "ipython3",
   "version": "3.11.7"
  }
 },
 "nbformat": 4,
 "nbformat_minor": 5
}
