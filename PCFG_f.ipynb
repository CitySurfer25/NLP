{
 "cells": [
  {
   "cell_type": "code",
   "execution_count": 1,
   "id": "540052ad",
   "metadata": {},
   "outputs": [],
   "source": [
    "rules={\n",
    "    ('S','NP','VP'):1,\n",
    "    ('PP','P','NP'):1,\n",
    "    ('VP','V','NP'):0.7,\n",
    "    ('VP','VP','PP'):0.3,\n",
    "    ('P','with'):1,\n",
    "    ('V','saw'):1,\n",
    "    ('NP','NP','PP'):0.4,\n",
    "    ('NP','astronomers'):0.1,\n",
    "    ('NP','ears'):0.18,\n",
    "    ('NP','saw'):0.04,\n",
    "    ('NP','stars'):0.18,\n",
    "    ('NP','telescopoes'):0.1,\n",
    "}"
   ]
  },
  {
   "cell_type": "code",
   "execution_count": 2,
   "id": "70f38edc",
   "metadata": {},
   "outputs": [
    {
     "data": {
      "text/plain": [
       "['astronomers', 'saw', 'stars', 'with', 'ears']"
      ]
     },
     "execution_count": 2,
     "metadata": {},
     "output_type": "execute_result"
    }
   ],
   "source": [
    "from nltk import word_tokenize\n",
    "sent= 'astronomers saw stars with ears'\n",
    "words= word_tokenize(sent)\n",
    "n=len(words)\n",
    "words"
   ]
  },
  {
   "cell_type": "code",
   "execution_count": 3,
   "id": "dcd7e1a6",
   "metadata": {},
   "outputs": [],
   "source": [
    "table = [\n",
    "    [{},{},{},{},{}],\n",
    "    [{},{},{},{},{}],\n",
    "    [{},{},{},{},{}],\n",
    "    [{},{},{},{},{}],\n",
    "    [{},{},{},{},{}],\n",
    "]"
   ]
  },
  {
   "cell_type": "code",
   "execution_count": 4,
   "id": "f20aad6d",
   "metadata": {},
   "outputs": [
    {
     "data": {
      "text/plain": [
       "[[{'NP': 0.1}, {}, {}, {}, {}],\n",
       " [{}, {'V': 1, 'NP': 0.04}, {}, {}, {}],\n",
       " [{}, {}, {'NP': 0.18}, {}, {}],\n",
       " [{}, {}, {}, {'P': 1}, {}],\n",
       " [{}, {}, {}, {}, {'NP': 0.18}]]"
      ]
     },
     "execution_count": 4,
     "metadata": {},
     "output_type": "execute_result"
    }
   ],
   "source": [
    "for i in range(n):\n",
    "    for r in rules.keys():\n",
    "        if words[i] in r:\n",
    "            table[i][i][r[0]]= rules[r]\n",
    "table"
   ]
  },
  {
   "cell_type": "code",
   "execution_count": 5,
   "id": "c7fc7b09",
   "metadata": {},
   "outputs": [
    {
     "data": {
      "text/plain": [
       "[[{'NP': 0.1}, {}, {'S': 0.0126}, {}, {'S': 0.0015875999999999998}],\n",
       " [{}, {'V': 1, 'NP': 0.04}, {'VP': 0.126}, {}, {'VP': 0.015875999999999998}],\n",
       " [{}, {}, {'NP': 0.18}, {}, {'NP': 0.01296}],\n",
       " [{}, {}, {}, {'P': 1}, {'PP': 0.18}],\n",
       " [{}, {}, {}, {}, {'NP': 0.18}]]"
      ]
     },
     "execution_count": 5,
     "metadata": {},
     "output_type": "execute_result"
    }
   ],
   "source": [
    "for i in range(n):\n",
    "    p=0\n",
    "    q=p+i+1\n",
    "    while p<n and q<n:\n",
    "        for r in range(p,q):\n",
    "            dj= table[p][r]\n",
    "            dk= table[r+1][q]\n",
    "            for N in rules.keys():\n",
    "                if N[-2] in dj.keys() and N[-1] in dk.keys():\n",
    "                    val = rules[N] * dj[N[-2]] * dk[N[-1]]\n",
    "                    if N[0] in table[p][q]:\n",
    "                        table[p][q][N[0]] += val\n",
    "                    else:\n",
    "                        table[p][q][N[0]]= val\n",
    "        p+=1\n",
    "        q=p+i+1\n",
    "table"
   ]
  },
  {
   "cell_type": "code",
   "execution_count": 6,
   "id": "e7f6568a",
   "metadata": {},
   "outputs": [],
   "source": [
    "# Viterbi"
   ]
  },
  {
   "cell_type": "code",
   "execution_count": 7,
   "id": "370e8dda",
   "metadata": {},
   "outputs": [
    {
     "data": {
      "text/plain": [
       "[[{'NP': 0.1}, {}, {'S': 0.0126}, {}, {'S': 0.0009071999999999999}],\n",
       " [{}, {'V': 1, 'NP': 0.04}, {'VP': 0.126}, {}, {'VP': 0.009071999999999998}],\n",
       " [{}, {}, {'NP': 0.18}, {}, {'NP': 0.01296}],\n",
       " [{}, {}, {}, {'P': 1}, {'PP': 0.18}],\n",
       " [{}, {}, {}, {}, {'NP': 0.18}]]"
      ]
     },
     "execution_count": 7,
     "metadata": {},
     "output_type": "execute_result"
    }
   ],
   "source": [
    "maxi=0\n",
    "for i in range(n):\n",
    "    p=0\n",
    "    q=p+i+1\n",
    "    while p<n and q<n:\n",
    "        for r in range(p,q):\n",
    "            dj= table[p][r]\n",
    "            dk= table[r+1][q]\n",
    "            for N in rules.keys():\n",
    "                if N[-2] in dj.keys() and N[-1] in dk.keys():\n",
    "                    val = rules[N] * dj[N[-2]] * dk[N[-1]]\n",
    "                    if val>maxi:\n",
    "                        maxi=val\n",
    "                        table[p][q][N[0]]=maxi\n",
    "        maxi=0\n",
    "        p+=1\n",
    "        q=p+i+1\n",
    "table"
   ]
  },
  {
   "cell_type": "code",
   "execution_count": null,
   "id": "82ba3d19",
   "metadata": {},
   "outputs": [],
   "source": []
  }
 ],
 "metadata": {
  "kernelspec": {
   "display_name": "Python 3 (ipykernel)",
   "language": "python",
   "name": "python3"
  },
  "language_info": {
   "codemirror_mode": {
    "name": "ipython",
    "version": 3
   },
   "file_extension": ".py",
   "mimetype": "text/x-python",
   "name": "python",
   "nbconvert_exporter": "python",
   "pygments_lexer": "ipython3",
   "version": "3.11.4"
  }
 },
 "nbformat": 4,
 "nbformat_minor": 5
}
